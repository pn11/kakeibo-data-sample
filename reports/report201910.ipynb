{
 "cells": [
  {
   "cell_type": "code",
   "execution_count": 1,
   "metadata": {
    "papermill": {
     "duration": 2.865212,
     "end_time": "2019-12-31T13:24:53.217294",
     "exception": false,
     "start_time": "2019-12-31T13:24:50.352082",
     "status": "completed"
    },
    "tags": []
   },
   "outputs": [],
   "source": [
    "import glob\n",
    "import pandas as pd\n",
    "import re\n",
    "import datetime\n",
    "\n",
    "from kakeibo.import_data import import_data\n",
    "from kakeibo.analyse import create_monthly_report"
   ]
  },
  {
   "cell_type": "code",
   "execution_count": 2,
   "metadata": {
    "papermill": {
     "duration": 0.013962,
     "end_time": "2019-12-31T13:24:53.236812",
     "exception": false,
     "start_time": "2019-12-31T13:24:53.222850",
     "status": "completed"
    },
    "tags": [
     "parameters"
    ]
   },
   "outputs": [],
   "source": [
    "year=2018\n",
    "month=8\n",
    "\n",
    "rakuten_dir = \"data/rakuten\"\n",
    "jwest_dir = \"data/jwest\"\n",
    "lawson_dir = \"data/lawson\""
   ]
  },
  {
   "cell_type": "code",
   "execution_count": 3,
   "metadata": {
    "papermill": {
     "duration": 0.011511,
     "end_time": "2019-12-31T13:24:53.253475",
     "exception": false,
     "start_time": "2019-12-31T13:24:53.241964",
     "status": "completed"
    },
    "tags": [
     "injected-parameters"
    ]
   },
   "outputs": [],
   "source": [
    "# Parameters\n",
    "year = 2019\n",
    "month = 10\n"
   ]
  },
  {
   "cell_type": "code",
   "execution_count": 4,
   "metadata": {
    "papermill": {
     "duration": 0.174716,
     "end_time": "2019-12-31T13:24:53.433426",
     "exception": false,
     "start_time": "2019-12-31T13:24:53.258710",
     "status": "completed"
    },
    "tags": []
   },
   "outputs": [],
   "source": [
    "data_rakuten = import_data(rakuten_dir, data_type='rakuten')\n",
    "data_jwest = import_data(jwest_dir, data_type='jwest')\n",
    "data_lawson = import_data(lawson_dir, data_type='lawson')\n",
    "\n",
    "data_all = data_rakuten+data_jwest+data_lawson\n",
    "data_all = sorted(data_all, key=lambda x: x.date)\n",
    "dict_all = [a.to_dict() for a in data_all]"
   ]
  },
  {
   "cell_type": "code",
   "execution_count": 5,
   "metadata": {
    "papermill": {
     "duration": 0.232782,
     "end_time": "2019-12-31T13:24:53.671688",
     "exception": false,
     "start_time": "2019-12-31T13:24:53.438906",
     "status": "completed"
    },
    "tags": []
   },
   "outputs": [
    {
     "data": {
      "text/plain": [
       "<Figure size 432x288 with 0 Axes>"
      ]
     },
     "metadata": {},
     "output_type": "display_data"
    },
    {
     "data": {
      "image/png": "[encoded data removed]",
      "text/plain": [
       "<Figure size 720x720 with 1 Axes>"
      ]
     },
     "metadata": {},
     "output_type": "display_data"
    }
   ],
   "source": [
    "df = create_monthly_report(dict_all, year, month, notebook=True)"
   ]
  },
  {
   "cell_type": "code",
   "execution_count": 6,
   "metadata": {
    "papermill": {
     "duration": 0.015828,
     "end_time": "2019-12-31T13:24:53.695706",
     "exception": false,
     "start_time": "2019-12-31T13:24:53.679878",
     "status": "completed"
    },
    "tags": []
   },
   "outputs": [
    {
     "data": {
      "text/plain": [
       "30000.0"
      ]
     },
     "execution_count": 6,
     "metadata": {},
     "output_type": "execute_result"
    }
   ],
   "source": [
    "#合計\n",
    "sum(df['Charge'])"
   ]
  },
  {
   "cell_type": "code",
   "execution_count": 7,
   "metadata": {
    "papermill": {
     "duration": 0.019275,
     "end_time": "2019-12-31T13:24:53.721407",
     "exception": false,
     "start_time": "2019-12-31T13:24:53.702132",
     "status": "completed"
    },
    "tags": []
   },
   "outputs": [
    {
     "data": {
      "text/html": [
       "<div>\n",
       "<style scoped>\n",
       "    .dataframe tbody tr th:only-of-type {\n",
       "        vertical-align: middle;\n",
       "    }\n",
       "\n",
       "    .dataframe tbody tr th {\n",
       "        vertical-align: top;\n",
       "    }\n",
       "\n",
       "    .dataframe thead th {\n",
       "        text-align: right;\n",
       "    }\n",
       "</style>\n",
       "<table border=\"1\" class=\"dataframe\">\n",
       "  <thead>\n",
       "    <tr style=\"text-align: right;\">\n",
       "      <th></th>\n",
       "      <th>Charge</th>\n",
       "      <th>Shop</th>\n",
       "    </tr>\n",
       "  </thead>\n",
       "  <tbody>\n",
       "    <tr>\n",
       "      <th>0</th>\n",
       "      <td>10000.0</td>\n",
       "      <td>らくてん</td>\n",
       "    </tr>\n",
       "    <tr>\n",
       "      <th>1</th>\n",
       "      <td>10000.0</td>\n",
       "      <td>あまぞん</td>\n",
       "    </tr>\n",
       "    <tr>\n",
       "      <th>2</th>\n",
       "      <td>10000.0</td>\n",
       "      <td>いんたーねっと</td>\n",
       "    </tr>\n",
       "  </tbody>\n",
       "</table>\n",
       "</div>"
      ],
      "text/plain": [
       "    Charge     Shop\n",
       "0  10000.0     らくてん\n",
       "1  10000.0     あまぞん\n",
       "2  10000.0  いんたーねっと"
      ]
     },
     "execution_count": 7,
     "metadata": {},
     "output_type": "execute_result"
    }
   ],
   "source": [
    "#内訳\n",
    "df"
   ]
  }
 ],
 "metadata": {
  "celltoolbar": "Tags",
  "kernelspec": {
   "display_name": "Python 3",
   "language": "python",
   "name": "python3"
  },
  "language_info": {
   "codemirror_mode": {
    "name": "ipython",
    "version": 3
   },
   "file_extension": ".py",
   "mimetype": "text/x-python",
   "name": "python",
   "nbconvert_exporter": "python",
   "pygments_lexer": "ipython3",
   "version": "3.7.5"
  },
  "papermill": {
   "duration": 4.41248,
   "end_time": "2019-12-31T13:24:54.034474",
   "environment_variables": {},
   "exception": null,
   "input_path": "/home/runner/.notebook-template/monthly_report.ipynb",
   "output_path": "reports/report201910.ipynb",
   "parameters": {
    "month": 10,
    "year": 2019
   },
   "start_time": "2019-12-31T13:24:49.621994",
   "version": "1.2.1"
  }
 },
 "nbformat": 4,
 "nbformat_minor": 4
}